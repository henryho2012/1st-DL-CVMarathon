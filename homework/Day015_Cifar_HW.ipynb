{
 "cells": [
  {
   "cell_type": "markdown",
   "metadata": {},
   "source": [
    "## 『本次練習內容』\n",
    "#### 運用這幾天所學觀念搭建一個CNN分類器"
   ]
  },
  {
   "cell_type": "markdown",
   "metadata": {},
   "source": [
    "## 『本次練習目的』\n",
    "  #### 熟悉CNN分類器搭建步驟與原理\n",
    "  #### 學員們可以嘗試不同搭法，如使用不同的Maxpooling層，用GlobalAveragePooling取代Flatten等等"
   ]
  },
  {
   "cell_type": "code",
   "execution_count": 1,
   "metadata": {},
   "outputs": [
    {
     "name": "stderr",
     "output_type": "stream",
     "text": [
      "Using TensorFlow backend.\n"
     ]
    }
   ],
   "source": [
    "from keras.models import Sequential\n",
    "from keras.layers import Convolution2D\n",
    "from keras.layers import MaxPooling2D\n",
    "from keras.layers import Flatten\n",
    "from keras.layers import Dense\n",
    "from keras.layers import Dropout\n",
    "from keras.layers import BatchNormalization\n",
    "from keras.datasets import cifar10\n",
    "import numpy as np\n",
    "import tensorflow as tf\n",
    "from sklearn.preprocessing import OneHotEncoder\n",
    "from keras import regularizers"
   ]
  },
  {
   "cell_type": "code",
   "execution_count": 2,
   "metadata": {},
   "outputs": [
    {
     "name": "stdout",
     "output_type": "stream",
     "text": [
      "(50000, 32, 32, 3)\n"
     ]
    }
   ],
   "source": [
    "(x_train, y_train), (x_test, y_test) = cifar10.load_data()\n",
    "\n",
    "print(x_train.shape) #(50000, 32, 32, 3)\n",
    "\n",
    "## Normalize Data\n",
    "def normalize(X_train,X_test):\n",
    "        mean = np.mean(X_train,axis=(0,1,2,3))\n",
    "        std = np.std(X_train, axis=(0, 1, 2, 3))\n",
    "        X_train = (X_train-mean)/(std+1e-7)\n",
    "        X_test = (X_test-mean)/(std+1e-7) \n",
    "        return X_train, X_test,mean,std\n",
    "    \n",
    "    \n",
    "## Normalize Training and Testset    \n",
    "x_train, x_test,mean_train,std_train = normalize(x_train, x_test) "
   ]
  },
  {
   "cell_type": "code",
   "execution_count": 3,
   "metadata": {},
   "outputs": [
    {
     "name": "stderr",
     "output_type": "stream",
     "text": [
      "C:\\ProgramData\\Anaconda3\\envs\\tensorflow-gpu\\lib\\site-packages\\sklearn\\preprocessing\\_encoders.py:415: FutureWarning: The handling of integer data will change in version 0.22. Currently, the categories are determined based on the range [0, max(values)], while in the future they will be determined based on the unique values.\n",
      "If you want the future behaviour and silence this warning, you can specify \"categories='auto'\".\n",
      "In case you used a LabelEncoder before this OneHotEncoder to convert the categories to integers, then you can now use the OneHotEncoder directly.\n",
      "  warnings.warn(msg, FutureWarning)\n"
     ]
    }
   ],
   "source": [
    "## OneHot Label 由(None, 1)-(None, 10)\n",
    "## ex. label=2,變成[0,0,1,0,0,0,0,0,0,0]\n",
    "one_hot=OneHotEncoder()\n",
    "y_train=one_hot.fit_transform(y_train).toarray()\n",
    "y_test=one_hot.transform(y_test).toarray()"
   ]
  },
  {
   "cell_type": "code",
   "execution_count": 4,
   "metadata": {},
   "outputs": [
    {
     "name": "stdout",
     "output_type": "stream",
     "text": [
      "WARNING:tensorflow:From C:\\ProgramData\\Anaconda3\\envs\\tensorflow-gpu\\lib\\site-packages\\tensorflow\\python\\framework\\op_def_library.py:263: colocate_with (from tensorflow.python.framework.ops) is deprecated and will be removed in a future version.\n",
      "Instructions for updating:\n",
      "Colocations handled automatically by placer.\n",
      "WARNING:tensorflow:From C:\\ProgramData\\Anaconda3\\envs\\tensorflow-gpu\\lib\\site-packages\\keras\\backend\\tensorflow_backend.py:3445: calling dropout (from tensorflow.python.ops.nn_ops) with keep_prob is deprecated and will be removed in a future version.\n",
      "Instructions for updating:\n",
      "Please use `rate` instead of `keep_prob`. Rate should be set to `rate = 1 - keep_prob`.\n"
     ]
    },
    {
     "name": "stderr",
     "output_type": "stream",
     "text": [
      "C:\\ProgramData\\Anaconda3\\envs\\tensorflow-gpu\\lib\\site-packages\\ipykernel_launcher.py:22: UserWarning: Update your `Dense` call to the Keras 2 API: `Dense(activation=\"relu\", kernel_regularizer=<keras.reg..., units=100)`\n",
      "C:\\ProgramData\\Anaconda3\\envs\\tensorflow-gpu\\lib\\site-packages\\ipykernel_launcher.py:24: UserWarning: Update your `Dropout` call to the Keras 2 API: `Dropout(rate=0.5)`\n",
      "C:\\ProgramData\\Anaconda3\\envs\\tensorflow-gpu\\lib\\site-packages\\ipykernel_launcher.py:26: UserWarning: Update your `Dense` call to the Keras 2 API: `Dense(activation=\"relu\", kernel_regularizer=<keras.reg..., units=100)`\n",
      "C:\\ProgramData\\Anaconda3\\envs\\tensorflow-gpu\\lib\\site-packages\\ipykernel_launcher.py:29: UserWarning: Update your `Dropout` call to the Keras 2 API: `Dropout(rate=0.3)`\n",
      "C:\\ProgramData\\Anaconda3\\envs\\tensorflow-gpu\\lib\\site-packages\\ipykernel_launcher.py:32: UserWarning: Update your `Dense` call to the Keras 2 API: `Dense(activation=\"softmax\", units=10)`\n"
     ]
    },
    {
     "name": "stdout",
     "output_type": "stream",
     "text": [
      "WARNING:tensorflow:From C:\\ProgramData\\Anaconda3\\envs\\tensorflow-gpu\\lib\\site-packages\\tensorflow\\python\\ops\\math_ops.py:3066: to_int32 (from tensorflow.python.ops.math_ops) is deprecated and will be removed in a future version.\n",
      "Instructions for updating:\n",
      "Use tf.cast instead.\n",
      "Epoch 1/100\n",
      "500/500 [==============================] - 23s 46ms/step - loss: 2.1108 - acc: 0.3641 - val_loss: 1.5723 - val_acc: 0.5259\n",
      "Epoch 2/100\n",
      "  9/500 [..............................] - ETA: 7s - loss: 1.7586 - acc: 0.461"
     ]
    },
    {
     "name": "stderr",
     "output_type": "stream",
     "text": [
      "C:\\ProgramData\\Anaconda3\\envs\\tensorflow-gpu\\lib\\site-packages\\keras\\callbacks.py:569: RuntimeWarning: Early stopping conditioned on metric `test_loss` which is not available. Available metrics are: val_loss,val_acc,loss,acc\n",
      "  (self.monitor, ','.join(list(logs.keys()))), RuntimeWarning\n"
     ]
    },
    {
     "name": "stdout",
     "output_type": "stream",
     "text": [
      "500/500 [==============================] - 20s 39ms/step - loss: 1.6295 - acc: 0.4993 - val_loss: 1.3676 - val_acc: 0.5965\n",
      "Epoch 3/100\n",
      "500/500 [==============================] - 20s 40ms/step - loss: 1.4488 - acc: 0.5576 - val_loss: 1.2761 - val_acc: 0.6107\n",
      "Epoch 4/100\n",
      "500/500 [==============================] - 20s 40ms/step - loss: 1.3459 - acc: 0.5866 - val_loss: 1.2273 - val_acc: 0.6272\n",
      "Epoch 5/100\n",
      "500/500 [==============================] - 20s 40ms/step - loss: 1.2845 - acc: 0.6027 - val_loss: 1.2035 - val_acc: 0.6329\n",
      "Epoch 6/100\n",
      "500/500 [==============================] - 20s 41ms/step - loss: 1.2422 - acc: 0.6201 - val_loss: 1.1324 - val_acc: 0.6581\n",
      "Epoch 7/100\n",
      "500/500 [==============================] - 20s 40ms/step - loss: 1.2141 - acc: 0.6311 - val_loss: 1.0900 - val_acc: 0.6746\n",
      "Epoch 8/100\n",
      "500/500 [==============================] - 20s 40ms/step - loss: 1.1885 - acc: 0.6378 - val_loss: 1.1404 - val_acc: 0.6612\n",
      "Epoch 9/100\n",
      "500/500 [==============================] - 20s 40ms/step - loss: 1.1738 - acc: 0.6452 - val_loss: 1.0914 - val_acc: 0.6774\n",
      "Epoch 10/100\n",
      "500/500 [==============================] - 20s 40ms/step - loss: 1.1564 - acc: 0.6511 - val_loss: 1.1783 - val_acc: 0.6535\n",
      "Epoch 11/100\n",
      "500/500 [==============================] - 20s 41ms/step - loss: 1.1455 - acc: 0.6563 - val_loss: 1.0914 - val_acc: 0.6721\n",
      "Epoch 12/100\n",
      "500/500 [==============================] - 20s 40ms/step - loss: 1.1297 - acc: 0.6639 - val_loss: 1.0483 - val_acc: 0.6887\n",
      "Epoch 13/100\n",
      "500/500 [==============================] - 20s 40ms/step - loss: 1.1262 - acc: 0.6641 - val_loss: 1.0795 - val_acc: 0.6791\n",
      "Epoch 14/100\n",
      "500/500 [==============================] - 20s 40ms/step - loss: 1.1068 - acc: 0.6722 - val_loss: 1.0101 - val_acc: 0.7083\n",
      "Epoch 15/100\n",
      "500/500 [==============================] - 20s 41ms/step - loss: 1.1048 - acc: 0.6710 - val_loss: 1.0096 - val_acc: 0.7059\n",
      "Epoch 16/100\n",
      "500/500 [==============================] - 20s 41ms/step - loss: 1.0965 - acc: 0.6761 - val_loss: 1.0510 - val_acc: 0.6907\n",
      "Epoch 17/100\n",
      "500/500 [==============================] - 21s 42ms/step - loss: 1.0968 - acc: 0.6750 - val_loss: 1.0422 - val_acc: 0.6971\n",
      "Epoch 18/100\n",
      "500/500 [==============================] - 21s 42ms/step - loss: 1.0833 - acc: 0.6804 - val_loss: 1.0478 - val_acc: 0.6941\n",
      "Epoch 19/100\n",
      "500/500 [==============================] - 20s 41ms/step - loss: 1.0766 - acc: 0.6833 - val_loss: 0.9900 - val_acc: 0.7117\n",
      "Epoch 20/100\n",
      "500/500 [==============================] - 20s 40ms/step - loss: 1.0794 - acc: 0.6828 - val_loss: 1.0554 - val_acc: 0.6857\n",
      "Epoch 21/100\n",
      "500/500 [==============================] - 20s 41ms/step - loss: 1.0754 - acc: 0.6812 - val_loss: 1.0021 - val_acc: 0.7099\n",
      "Epoch 22/100\n",
      "500/500 [==============================] - 20s 41ms/step - loss: 1.0709 - acc: 0.6860 - val_loss: 0.9952 - val_acc: 0.7067\n",
      "Epoch 23/100\n",
      "500/500 [==============================] - 20s 39ms/step - loss: 1.0654 - acc: 0.6877 - val_loss: 0.9908 - val_acc: 0.7129\n",
      "Epoch 24/100\n",
      "500/500 [==============================] - 20s 40ms/step - loss: 1.0568 - acc: 0.6903 - val_loss: 1.1063 - val_acc: 0.6777\n",
      "Epoch 25/100\n",
      "500/500 [==============================] - 20s 40ms/step - loss: 1.0592 - acc: 0.6907 - val_loss: 1.0219 - val_acc: 0.7021\n",
      "Epoch 26/100\n",
      "500/500 [==============================] - 20s 41ms/step - loss: 1.0526 - acc: 0.6913 - val_loss: 0.9630 - val_acc: 0.7224\n",
      "Epoch 27/100\n",
      "500/500 [==============================] - 19s 39ms/step - loss: 1.0499 - acc: 0.6940 - val_loss: 1.0414 - val_acc: 0.6943\n",
      "Epoch 28/100\n",
      "500/500 [==============================] - 21s 42ms/step - loss: 1.0545 - acc: 0.6912 - val_loss: 1.0771 - val_acc: 0.6853\n",
      "Epoch 29/100\n",
      "500/500 [==============================] - 19s 39ms/step - loss: 1.0505 - acc: 0.6952 - val_loss: 1.0316 - val_acc: 0.7021\n",
      "Epoch 30/100\n",
      "500/500 [==============================] - 20s 40ms/step - loss: 1.0444 - acc: 0.6948 - val_loss: 0.9494 - val_acc: 0.7291\n",
      "Epoch 31/100\n",
      "500/500 [==============================] - 20s 40ms/step - loss: 1.0423 - acc: 0.6948 - val_loss: 1.1349 - val_acc: 0.6718\n",
      "Epoch 32/100\n",
      "500/500 [==============================] - 20s 40ms/step - loss: 1.0327 - acc: 0.6979 - val_loss: 1.0180 - val_acc: 0.7061\n",
      "Epoch 33/100\n",
      "500/500 [==============================] - 19s 39ms/step - loss: 1.0398 - acc: 0.6974 - val_loss: 1.0149 - val_acc: 0.7089\n",
      "Epoch 34/100\n",
      "500/500 [==============================] - 20s 39ms/step - loss: 1.0323 - acc: 0.6991 - val_loss: 1.0024 - val_acc: 0.7085\n",
      "Epoch 35/100\n",
      "500/500 [==============================] - 20s 41ms/step - loss: 1.0273 - acc: 0.7001 - val_loss: 1.0434 - val_acc: 0.6964\n",
      "Epoch 36/100\n",
      "500/500 [==============================] - 20s 39ms/step - loss: 1.0260 - acc: 0.7008 - val_loss: 0.9570 - val_acc: 0.7253\n",
      "Epoch 37/100\n",
      "500/500 [==============================] - 20s 39ms/step - loss: 1.0305 - acc: 0.7024 - val_loss: 0.9907 - val_acc: 0.7188\n",
      "Epoch 38/100\n",
      "500/500 [==============================] - 20s 40ms/step - loss: 1.0227 - acc: 0.7051 - val_loss: 0.9455 - val_acc: 0.7307\n",
      "Epoch 39/100\n",
      "500/500 [==============================] - 20s 40ms/step - loss: 1.0200 - acc: 0.7049 - val_loss: 1.0174 - val_acc: 0.7078\n",
      "Epoch 40/100\n",
      "500/500 [==============================] - 20s 40ms/step - loss: 1.0207 - acc: 0.7077 - val_loss: 1.0479 - val_acc: 0.6999\n",
      "Epoch 41/100\n",
      "500/500 [==============================] - 20s 40ms/step - loss: 1.0224 - acc: 0.7040 - val_loss: 0.9217 - val_acc: 0.7389\n",
      "Epoch 42/100\n",
      "500/500 [==============================] - 20s 40ms/step - loss: 1.0212 - acc: 0.7067 - val_loss: 0.9582 - val_acc: 0.7241\n",
      "Epoch 43/100\n",
      "500/500 [==============================] - 20s 40ms/step - loss: 1.0180 - acc: 0.7050 - val_loss: 0.9967 - val_acc: 0.7127\n",
      "Epoch 44/100\n",
      "500/500 [==============================] - 20s 40ms/step - loss: 1.0194 - acc: 0.7068 - val_loss: 0.9554 - val_acc: 0.7259\n",
      "Epoch 45/100\n",
      "500/500 [==============================] - 20s 40ms/step - loss: 1.0121 - acc: 0.7056 - val_loss: 1.0477 - val_acc: 0.6980\n",
      "Epoch 46/100\n",
      "500/500 [==============================] - 20s 40ms/step - loss: 1.0132 - acc: 0.7065 - val_loss: 0.9531 - val_acc: 0.7235\n",
      "Epoch 47/100\n",
      "500/500 [==============================] - 20s 40ms/step - loss: 1.0112 - acc: 0.7089 - val_loss: 0.9993 - val_acc: 0.7110\n",
      "Epoch 48/100\n",
      "500/500 [==============================] - 20s 40ms/step - loss: 1.0040 - acc: 0.7112 - val_loss: 0.9469 - val_acc: 0.7240\n",
      "Epoch 49/100\n",
      "500/500 [==============================] - 20s 40ms/step - loss: 1.0104 - acc: 0.7066 - val_loss: 0.9080 - val_acc: 0.7449\n",
      "Epoch 50/100\n",
      "500/500 [==============================] - 20s 40ms/step - loss: 1.0061 - acc: 0.7093 - val_loss: 0.9452 - val_acc: 0.7309\n",
      "Epoch 51/100\n",
      "500/500 [==============================] - 20s 40ms/step - loss: 1.0036 - acc: 0.7082 - val_loss: 0.9371 - val_acc: 0.7352\n",
      "Epoch 52/100\n",
      "500/500 [==============================] - 20s 40ms/step - loss: 0.9998 - acc: 0.7140 - val_loss: 0.9361 - val_acc: 0.7342\n",
      "Epoch 53/100\n",
      "500/500 [==============================] - 20s 40ms/step - loss: 1.0020 - acc: 0.7127 - val_loss: 1.0299 - val_acc: 0.7049\n",
      "Epoch 54/100\n",
      "500/500 [==============================] - 20s 40ms/step - loss: 1.0022 - acc: 0.7122 - val_loss: 0.9344 - val_acc: 0.7296\n",
      "Epoch 55/100\n",
      "500/500 [==============================] - 20s 41ms/step - loss: 1.0067 - acc: 0.7102 - val_loss: 0.9566 - val_acc: 0.7263\n",
      "Epoch 56/100\n",
      "500/500 [==============================] - 20s 39ms/step - loss: 1.0006 - acc: 0.7127 - val_loss: 0.9263 - val_acc: 0.7348\n",
      "Epoch 57/100\n",
      "500/500 [==============================] - 20s 39ms/step - loss: 0.9935 - acc: 0.7143 - val_loss: 0.9726 - val_acc: 0.7221\n",
      "Epoch 58/100\n",
      "500/500 [==============================] - 20s 40ms/step - loss: 1.0029 - acc: 0.7118 - val_loss: 1.1988 - val_acc: 0.6686\n",
      "Epoch 59/100\n",
      "500/500 [==============================] - 20s 39ms/step - loss: 0.9934 - acc: 0.7147 - val_loss: 1.0472 - val_acc: 0.7013\n",
      "Epoch 60/100\n",
      "500/500 [==============================] - 20s 40ms/step - loss: 0.9979 - acc: 0.7137 - val_loss: 1.0042 - val_acc: 0.7129\n",
      "Epoch 61/100\n",
      "500/500 [==============================] - 20s 39ms/step - loss: 0.9926 - acc: 0.7134 - val_loss: 0.9857 - val_acc: 0.7208\n",
      "Epoch 62/100\n"
     ]
    },
    {
     "name": "stdout",
     "output_type": "stream",
     "text": [
      "500/500 [==============================] - 20s 40ms/step - loss: 0.9886 - acc: 0.7169 - val_loss: 0.9146 - val_acc: 0.7383\n",
      "Epoch 63/100\n",
      "500/500 [==============================] - 20s 40ms/step - loss: 0.9874 - acc: 0.7146 - val_loss: 0.9233 - val_acc: 0.7425\n",
      "Epoch 64/100\n",
      "500/500 [==============================] - 20s 39ms/step - loss: 0.9912 - acc: 0.7147 - val_loss: 1.0178 - val_acc: 0.7127\n",
      "Epoch 65/100\n",
      "500/500 [==============================] - 20s 39ms/step - loss: 0.9930 - acc: 0.7163 - val_loss: 0.9574 - val_acc: 0.7285\n",
      "Epoch 66/100\n",
      "500/500 [==============================] - 20s 39ms/step - loss: 0.9902 - acc: 0.7169 - val_loss: 0.9072 - val_acc: 0.7371\n",
      "Epoch 67/100\n",
      "500/500 [==============================] - 20s 39ms/step - loss: 0.9903 - acc: 0.7148 - val_loss: 0.9208 - val_acc: 0.7320\n",
      "Epoch 68/100\n",
      "500/500 [==============================] - 20s 39ms/step - loss: 0.9859 - acc: 0.7185 - val_loss: 0.9719 - val_acc: 0.7242\n",
      "Epoch 69/100\n",
      "500/500 [==============================] - 20s 39ms/step - loss: 0.9844 - acc: 0.7176 - val_loss: 0.9771 - val_acc: 0.7164\n",
      "Epoch 70/100\n",
      "500/500 [==============================] - 20s 39ms/step - loss: 0.9886 - acc: 0.7180 - val_loss: 0.9850 - val_acc: 0.7194\n",
      "Epoch 71/100\n",
      "500/500 [==============================] - 20s 39ms/step - loss: 0.9818 - acc: 0.7195 - val_loss: 1.0057 - val_acc: 0.7113\n",
      "Epoch 72/100\n",
      "500/500 [==============================] - 20s 39ms/step - loss: 0.9839 - acc: 0.7160 - val_loss: 0.9817 - val_acc: 0.7195\n",
      "Epoch 73/100\n",
      "500/500 [==============================] - 20s 39ms/step - loss: 0.9805 - acc: 0.7188 - val_loss: 0.9334 - val_acc: 0.7338\n",
      "Epoch 74/100\n",
      "500/500 [==============================] - 20s 39ms/step - loss: 0.9792 - acc: 0.7206 - val_loss: 1.0010 - val_acc: 0.7200\n",
      "Epoch 75/100\n",
      "500/500 [==============================] - 20s 40ms/step - loss: 0.9793 - acc: 0.7193 - val_loss: 0.9730 - val_acc: 0.7236\n",
      "Epoch 76/100\n",
      "500/500 [==============================] - 20s 40ms/step - loss: 0.9802 - acc: 0.7206 - val_loss: 1.0331 - val_acc: 0.7025\n",
      "Epoch 77/100\n",
      "500/500 [==============================] - 20s 39ms/step - loss: 0.9802 - acc: 0.7205 - val_loss: 0.9171 - val_acc: 0.7392\n",
      "Epoch 78/100\n",
      "500/500 [==============================] - 20s 39ms/step - loss: 0.9803 - acc: 0.7233 - val_loss: 0.9770 - val_acc: 0.7216\n",
      "Epoch 79/100\n",
      "500/500 [==============================] - 20s 39ms/step - loss: 0.9755 - acc: 0.7200 - val_loss: 0.9456 - val_acc: 0.7291\n",
      "Epoch 80/100\n",
      "500/500 [==============================] - 20s 40ms/step - loss: 0.9774 - acc: 0.7219 - val_loss: 0.9304 - val_acc: 0.7370\n",
      "Epoch 81/100\n",
      "500/500 [==============================] - 20s 39ms/step - loss: 0.9703 - acc: 0.7207 - val_loss: 0.9838 - val_acc: 0.7176\n",
      "Epoch 82/100\n",
      "500/500 [==============================] - 20s 40ms/step - loss: 0.9784 - acc: 0.7207 - val_loss: 1.0780 - val_acc: 0.6983\n",
      "Epoch 83/100\n",
      "500/500 [==============================] - 20s 39ms/step - loss: 0.9755 - acc: 0.7205 - val_loss: 0.9311 - val_acc: 0.7326\n",
      "Epoch 84/100\n",
      "500/500 [==============================] - 20s 39ms/step - loss: 0.9789 - acc: 0.7211 - val_loss: 0.9171 - val_acc: 0.7386\n",
      "Epoch 85/100\n",
      "500/500 [==============================] - 20s 40ms/step - loss: 0.9723 - acc: 0.7246 - val_loss: 0.9501 - val_acc: 0.7325\n",
      "Epoch 86/100\n",
      "500/500 [==============================] - 20s 39ms/step - loss: 0.9740 - acc: 0.7241 - val_loss: 0.9784 - val_acc: 0.7189\n",
      "Epoch 87/100\n",
      "500/500 [==============================] - 20s 39ms/step - loss: 0.9707 - acc: 0.7223 - val_loss: 0.9723 - val_acc: 0.7237\n",
      "Epoch 88/100\n",
      "500/500 [==============================] - 20s 39ms/step - loss: 0.9709 - acc: 0.7234 - val_loss: 0.9121 - val_acc: 0.7413\n",
      "Epoch 89/100\n",
      "500/500 [==============================] - 20s 40ms/step - loss: 0.9685 - acc: 0.7230 - val_loss: 0.8869 - val_acc: 0.7520\n",
      "Epoch 90/100\n",
      "500/500 [==============================] - 20s 40ms/step - loss: 0.9669 - acc: 0.7237 - val_loss: 0.9477 - val_acc: 0.7253\n",
      "Epoch 91/100\n",
      "500/500 [==============================] - 20s 39ms/step - loss: 0.9708 - acc: 0.7222 - val_loss: 0.8922 - val_acc: 0.7466\n",
      "Epoch 92/100\n",
      "500/500 [==============================] - 20s 39ms/step - loss: 0.9665 - acc: 0.7259 - val_loss: 1.0238 - val_acc: 0.7053\n",
      "Epoch 93/100\n",
      "500/500 [==============================] - 20s 40ms/step - loss: 0.9647 - acc: 0.7234 - val_loss: 0.9814 - val_acc: 0.7199\n",
      "Epoch 94/100\n",
      "500/500 [==============================] - 20s 39ms/step - loss: 0.9647 - acc: 0.7273 - val_loss: 0.9273 - val_acc: 0.7328\n",
      "Epoch 95/100\n",
      "500/500 [==============================] - 20s 40ms/step - loss: 0.9679 - acc: 0.7249 - val_loss: 0.9525 - val_acc: 0.7270\n",
      "Epoch 96/100\n",
      "500/500 [==============================] - 20s 40ms/step - loss: 0.9584 - acc: 0.7279 - val_loss: 0.9041 - val_acc: 0.7422\n",
      "Epoch 97/100\n",
      "500/500 [==============================] - 20s 39ms/step - loss: 0.9617 - acc: 0.7247 - val_loss: 0.9069 - val_acc: 0.7440\n",
      "Epoch 98/100\n",
      "500/500 [==============================] - 20s 40ms/step - loss: 0.9630 - acc: 0.7270 - val_loss: 0.8858 - val_acc: 0.7520\n",
      "Epoch 99/100\n",
      "500/500 [==============================] - 20s 39ms/step - loss: 0.9632 - acc: 0.7294 - val_loss: 0.8954 - val_acc: 0.7438\n",
      "Epoch 100/100\n",
      "500/500 [==============================] - 20s 40ms/step - loss: 0.9659 - acc: 0.7259 - val_loss: 0.9606 - val_acc: 0.7283\n"
     ]
    },
    {
     "data": {
      "text/plain": [
       "<keras.callbacks.History at 0x14846d3feb8>"
      ]
     },
     "execution_count": 4,
     "metadata": {},
     "output_type": "execute_result"
    }
   ],
   "source": [
    "\n",
    "classifier=Sequential()\n",
    "\n",
    "#卷積組合\n",
    "#32,3,3,input_shape=(32,32,3),activation='relu''\n",
    "classifier.add(Convolution2D(filters=32, kernel_size=(3, 3), activation='relu', padding='same', input_shape=(32,32,3)))\n",
    "classifier.add(BatchNormalization())\n",
    "\n",
    "'''自己決定MaxPooling2D放在哪裡'''\n",
    "#classifier.add(MaxPooling2D(pool_size=(2,2)))\n",
    "classifier.add(MaxPooling2D(pool_size=(2,2)))\n",
    "\n",
    "#卷積組合\n",
    "classifier.add(Convolution2D(filters=32, kernel_size=(3, 3), activation='relu', padding='same', input_shape=(32,32,3)))\n",
    "classifier.add(BatchNormalization())\n",
    "classifier.add(MaxPooling2D(pool_size=(2,2)))\n",
    "\n",
    "#flatten\n",
    "classifier.add(Flatten())\n",
    "\n",
    "#FC\n",
    "classifier.add(Dense(output_dim=100,activation='relu',kernel_regularizer=regularizers.l2(l=0.001))) ##regularizers\n",
    "classifier.add(BatchNormalization()) ##BatchNormalization\n",
    "classifier.add(Dropout(p=0.5)) ##Dropout\n",
    "\n",
    "classifier.add(Dense(output_dim=100,activation='relu',kernel_regularizer=regularizers.l2(0.001)))##regularizers\n",
    "classifier.add(BatchNormalization()) ##BatchNormalization\n",
    "\n",
    "classifier.add(Dropout(p=0.3))##Dropout\n",
    "\n",
    "#輸出\n",
    "classifier.add(Dense(output_dim=10, activation='softmax'))\n",
    "\n",
    "#超過兩個就要選categorical_crossentrophy\n",
    "classifier.compile(optimizer = 'adam', loss = 'categorical_crossentropy', metrics = ['accuracy'])\n",
    "from keras.preprocessing.image import ImageDataGenerator ##Augmentation\n",
    "img_gen = ImageDataGenerator( featurewise_center=True,featurewise_std_normalization=True,rotation_range=10,width_shift_range=0.1,\n",
    "                                            height_shift_range=0.1,shear_range=0.1,zoom_range=0.1,horizontal_flip=True,vertical_flip=False,dtype=np.float32)\n",
    "img_gen.fit(x_train)\n",
    "\n",
    "\n",
    "from keras.callbacks import EarlyStopping\n",
    "earlystop = EarlyStopping(monitor='test_loss', patience=8, verbose=1) ##earlystop\n",
    "\n",
    "##開始訓練\n",
    "classifier.fit_generator(img_gen.flow(x_train, y_train, batch_size=100) ,steps_per_epoch=500,\n",
    "                               epochs=100, validation_data = (x_test, y_test),callbacks = [earlystop])"
   ]
  },
  {
   "cell_type": "markdown",
   "metadata": {},
   "source": [
    "## 預測新圖片，輸入影像前處理要與訓練時相同\n",
    "#### ((X-mean)/(std+1e-7) ):這裡的mean跟std是訓練集的\n",
    "## 維度如下方示範"
   ]
  },
  {
   "cell_type": "code",
   "execution_count": 5,
   "metadata": {},
   "outputs": [
    {
     "data": {
      "text/plain": [
       "array([[0.15272042, 0.00214281, 0.5410427 , 0.13824564, 0.03783874,\n",
       "        0.05103505, 0.05490997, 0.00995078, 0.01122251, 0.00089141]],\n",
       "      dtype=float32)"
      ]
     },
     "execution_count": 5,
     "metadata": {},
     "output_type": "execute_result"
    }
   ],
   "source": [
    "input_example=(np.zeros(shape=(1,32,32,3))-mean_train)/(std_train+1e-7) \n",
    "classifier.predict(input_example)"
   ]
  },
  {
   "cell_type": "code",
   "execution_count": null,
   "metadata": {},
   "outputs": [],
   "source": []
  }
 ],
 "metadata": {
  "kernelspec": {
   "display_name": "Python [conda env:tensorflow-gpu]",
   "language": "python",
   "name": "conda-env-tensorflow-gpu-py"
  },
  "language_info": {
   "codemirror_mode": {
    "name": "ipython",
    "version": 3
   },
   "file_extension": ".py",
   "mimetype": "text/x-python",
   "name": "python",
   "nbconvert_exporter": "python",
   "pygments_lexer": "ipython3",
   "version": "3.7.3"
  }
 },
 "nbformat": 4,
 "nbformat_minor": 2
}
